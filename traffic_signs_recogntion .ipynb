{
 "cells": [
  {
   "cell_type": "code",
   "execution_count": 40,
   "metadata": {},
   "outputs": [],
   "source": [
    "import numpy as np\n",
    "import pandas as pd\n",
    "import matplotlib.pyplot as plt\n",
    "import tensorflow as tf\n",
    "from PIL import Image\n",
    "import os\n",
    "os.chdir('E:/DataScience/2021/trafficsigns_dataset')\n",
    "from sklearn.model_selection import train_test_split\n",
    "from keras.utils import to_categorical\n",
    "from keras.models import Sequential\n",
    "from keras.layers import Conv2D,MaxPool2D,Dense,Flatten,Dropout\n",
    "import cv2"
   ]
  },
  {
   "cell_type": "code",
   "execution_count": 60,
   "metadata": {},
   "outputs": [],
   "source": [
    "data = []\n",
    "labels = []\n",
    "classes = 43\n",
    "cur_path = os.getcwd()"
   ]
  },
  {
   "cell_type": "code",
   "execution_count": 31,
   "metadata": {},
   "outputs": [
    {
     "data": {
      "text/plain": [
       "'E:\\\\DataScience\\\\2021\\\\trafficsigns_dataset'"
      ]
     },
     "execution_count": 31,
     "metadata": {},
     "output_type": "execute_result"
    }
   ],
   "source": [
    "cur_path"
   ]
  },
  {
   "cell_type": "code",
   "execution_count": 61,
   "metadata": {},
   "outputs": [],
   "source": [
    "#Image preprocessing\n",
    "for i in range(classes):\n",
    "    path = os.path.join(cur_path,'train',str(i))\n",
    "    images = os.listdir(path)\n",
    "    for a in images:\n",
    "        try:\n",
    "            image = Image.open(path + '\\\\'+ a) \n",
    "            image = image.resize((30,30))\n",
    "            image = np.array(image)\n",
    "            data.append(image)\n",
    "            labels.append(i)\n",
    "        except Exception as e:\n",
    "            print(e)"
   ]
  },
  {
   "cell_type": "code",
   "execution_count": 62,
   "metadata": {},
   "outputs": [],
   "source": [
    "#Convert the image into numpy arrays\n",
    "data = np.array(data)\n",
    "labels = np.array(labels)"
   ]
  },
  {
   "cell_type": "code",
   "execution_count": 64,
   "metadata": {},
   "outputs": [],
   "source": [
    "#Save the data and labels.\n",
    "#os.mkdir('training')\n",
    "np.save('./training/data',data)\n",
    "np.save('./training/target',labels)"
   ]
  },
  {
   "cell_type": "code",
   "execution_count": 65,
   "metadata": {},
   "outputs": [],
   "source": [
    "#Loading data and labels.\n",
    "data = np.load('./training/data.npy')\n",
    "labels = np.load('./training/target.npy')"
   ]
  },
  {
   "cell_type": "code",
   "execution_count": 66,
   "metadata": {},
   "outputs": [
    {
     "name": "stdout",
     "output_type": "stream",
     "text": [
      "(39209, 30, 30, 3) (39209,)\n"
     ]
    }
   ],
   "source": [
    "print(data.shape, labels.shape)"
   ]
  },
  {
   "cell_type": "code",
   "execution_count": 67,
   "metadata": {},
   "outputs": [],
   "source": [
    "X_train, X_test, y_train, y_test = train_test_split(data,labels,test_size=0.2,random_state=0)"
   ]
  },
  {
   "cell_type": "code",
   "execution_count": 68,
   "metadata": {},
   "outputs": [
    {
     "name": "stdout",
     "output_type": "stream",
     "text": [
      "(31367, 30, 30, 3) (7842, 30, 30, 3) (31367,) (7842,)\n"
     ]
    }
   ],
   "source": [
    "print(X_train.shape, X_test.shape,y_train.shape,y_test.shape)"
   ]
  },
  {
   "cell_type": "code",
   "execution_count": 69,
   "metadata": {},
   "outputs": [],
   "source": [
    "#Convert labels to onehot encoding\n",
    "y_train = to_categorical(y_train,43)\n",
    "y_test = to_categorical(y_test,43)"
   ]
  },
  {
   "cell_type": "markdown",
   "metadata": {},
   "source": [
    "### Model Building."
   ]
  },
  {
   "cell_type": "code",
   "execution_count": 70,
   "metadata": {},
   "outputs": [
    {
     "name": "stdout",
     "output_type": "stream",
     "text": [
      "WARNING:tensorflow:From C:\\Users\\Gachengoh\\Anaconda3\\envs\\PythonGPU\\lib\\site-packages\\keras\\backend\\tensorflow_backend.py:4070: The name tf.nn.max_pool is deprecated. Please use tf.nn.max_pool2d instead.\n",
      "\n"
     ]
    }
   ],
   "source": [
    "model = Sequential()\n",
    "model.add(Conv2D(filters=32, kernel_size = (5,5), activation = 'relu', input_shape=X_train.shape[1:]))\n",
    "model.add(Conv2D(filters=32, kernel_size = (5,5), activation = 'relu'))\n",
    "model.add(MaxPool2D(pool_size=(2,2)))\n",
    "model.add(Dropout(rate=0.25))\n",
    "model.add(Conv2D(filters=64, kernel_size=(3,3), activation='relu'))\n",
    "model.add(Conv2D(filters=64, kernel_size=(3,3), activation='relu'))\n",
    "model.add(MaxPool2D(pool_size=(2,2)))\n",
    "model.add(Dropout(rate=0.25))\n",
    "model.add(Flatten()) \n",
    "model.add(Dense(256, activation = 'relu'))\n",
    "model.add(Dropout(rate=0.5))\n",
    "model.add(Dense(43, activation='softmax'))"
   ]
  },
  {
   "cell_type": "code",
   "execution_count": 72,
   "metadata": {},
   "outputs": [],
   "source": [
    "#model compilation.\n",
    "model.compile(loss= 'categorical_crossentropy',optimizer='adam',metrics=['accuracy'])"
   ]
  },
  {
   "cell_type": "code",
   "execution_count": 73,
   "metadata": {},
   "outputs": [
    {
     "name": "stdout",
     "output_type": "stream",
     "text": [
      "WARNING:tensorflow:From C:\\Users\\Gachengoh\\Anaconda3\\envs\\PythonGPU\\lib\\site-packages\\keras\\backend\\tensorflow_backend.py:422: The name tf.global_variables is deprecated. Please use tf.compat.v1.global_variables instead.\n",
      "\n",
      "Train on 31367 samples, validate on 7842 samples\n",
      "Epoch 1/30\n",
      "31367/31367 [==============================] - 29s 924us/step - loss: 1.9317 - accuracy: 0.4956 - val_loss: 0.6409 - val_accuracy: 0.8256\n",
      "Epoch 2/30\n",
      "31367/31367 [==============================] - 26s 814us/step - loss: 0.7098 - accuracy: 0.7880 - val_loss: 0.2892 - val_accuracy: 0.9144\n",
      "Epoch 3/30\n",
      "31367/31367 [==============================] - 25s 812us/step - loss: 0.4955 - accuracy: 0.8525 - val_loss: 0.3217 - val_accuracy: 0.9069\n",
      "Epoch 4/30\n",
      "31367/31367 [==============================] - 25s 811us/step - loss: 0.4058 - accuracy: 0.8781 - val_loss: 0.1405 - val_accuracy: 0.9584\n",
      "Epoch 5/30\n",
      "31367/31367 [==============================] - 26s 813us/step - loss: 0.3627 - accuracy: 0.8927 - val_loss: 0.1433 - val_accuracy: 0.9574\n",
      "Epoch 6/30\n",
      "31367/31367 [==============================] - 25s 812us/step - loss: 0.3141 - accuracy: 0.9073 - val_loss: 0.1080 - val_accuracy: 0.9695\n",
      "Epoch 7/30\n",
      "31367/31367 [==============================] - 26s 816us/step - loss: 0.2962 - accuracy: 0.9126 - val_loss: 0.1415 - val_accuracy: 0.9600\n",
      "Epoch 8/30\n",
      "31367/31367 [==============================] - 26s 814us/step - loss: 0.2985 - accuracy: 0.9125 - val_loss: 0.1433 - val_accuracy: 0.9615\n",
      "Epoch 9/30\n",
      "31367/31367 [==============================] - 26s 814us/step - loss: 0.2621 - accuracy: 0.9257 - val_loss: 0.0891 - val_accuracy: 0.9770\n",
      "Epoch 10/30\n",
      "31367/31367 [==============================] - 26s 815us/step - loss: 0.2798 - accuracy: 0.9227 - val_loss: 0.1457 - val_accuracy: 0.9536\n",
      "Epoch 11/30\n",
      "31367/31367 [==============================] - 26s 813us/step - loss: 0.2775 - accuracy: 0.9251 - val_loss: 0.1115 - val_accuracy: 0.9672\n",
      "Epoch 12/30\n",
      "31367/31367 [==============================] - 26s 817us/step - loss: 0.2933 - accuracy: 0.9207 - val_loss: 0.0849 - val_accuracy: 0.9770\n",
      "Epoch 13/30\n",
      "31367/31367 [==============================] - 26s 822us/step - loss: 0.2743 - accuracy: 0.9250 - val_loss: 0.1117 - val_accuracy: 0.9708\n",
      "Epoch 14/30\n",
      "31367/31367 [==============================] - 26s 820us/step - loss: 0.2538 - accuracy: 0.9312 - val_loss: 0.1219 - val_accuracy: 0.9682\n",
      "Epoch 15/30\n",
      "31367/31367 [==============================] - 26s 818us/step - loss: 0.2653 - accuracy: 0.9276 - val_loss: 0.0712 - val_accuracy: 0.9809\n",
      "Epoch 16/30\n",
      "31367/31367 [==============================] - 26s 821us/step - loss: 0.2727 - accuracy: 0.9282 - val_loss: 0.0973 - val_accuracy: 0.9748\n",
      "Epoch 17/30\n",
      "31367/31367 [==============================] - 26s 823us/step - loss: 0.2722 - accuracy: 0.9296 - val_loss: 0.0789 - val_accuracy: 0.9790\n",
      "Epoch 18/30\n",
      "31367/31367 [==============================] - 26s 825us/step - loss: 0.2392 - accuracy: 0.9387 - val_loss: 0.0774 - val_accuracy: 0.9787\n",
      "Epoch 19/30\n",
      "31367/31367 [==============================] - 26s 826us/step - loss: 0.2953 - accuracy: 0.9243 - val_loss: 0.1529 - val_accuracy: 0.9589\n",
      "Epoch 20/30\n",
      "31367/31367 [==============================] - 26s 822us/step - loss: 0.2862 - accuracy: 0.9243 - val_loss: 0.0716 - val_accuracy: 0.9807\n",
      "Epoch 21/30\n",
      "31367/31367 [==============================] - 26s 823us/step - loss: 0.2703 - accuracy: 0.9311 - val_loss: 0.2037 - val_accuracy: 0.9453\n",
      "Epoch 22/30\n",
      "31367/31367 [==============================] - 26s 825us/step - loss: 0.2808 - accuracy: 0.9274 - val_loss: 0.1123 - val_accuracy: 0.9699\n",
      "Epoch 23/30\n",
      "31367/31367 [==============================] - 26s 825us/step - loss: 0.2729 - accuracy: 0.9320 - val_loss: 0.1115 - val_accuracy: 0.9716\n",
      "Epoch 24/30\n",
      "31367/31367 [==============================] - 26s 823us/step - loss: 0.2972 - accuracy: 0.9243 - val_loss: 0.0894 - val_accuracy: 0.9746\n",
      "Epoch 25/30\n",
      "31367/31367 [==============================] - 26s 830us/step - loss: 0.2771 - accuracy: 0.9291 - val_loss: 0.1272 - val_accuracy: 0.9667\n",
      "Epoch 26/30\n",
      "31367/31367 [==============================] - 26s 820us/step - loss: 0.3041 - accuracy: 0.9232 - val_loss: 0.0759 - val_accuracy: 0.9811\n",
      "Epoch 27/30\n",
      "31367/31367 [==============================] - 26s 820us/step - loss: 0.3234 - accuracy: 0.9233 - val_loss: 0.1400 - val_accuracy: 0.9651\n",
      "Epoch 28/30\n",
      "31367/31367 [==============================] - 26s 821us/step - loss: 0.2745 - accuracy: 0.9346 - val_loss: 0.0713 - val_accuracy: 0.9813\n",
      "Epoch 29/30\n",
      "31367/31367 [==============================] - 26s 822us/step - loss: 0.2834 - accuracy: 0.9312 - val_loss: 0.0679 - val_accuracy: 0.9825\n",
      "Epoch 30/30\n",
      "31367/31367 [==============================] - 26s 825us/step - loss: 0.2940 - accuracy: 0.9264 - val_loss: 0.1108 - val_accuracy: 0.9685\n"
     ]
    }
   ],
   "source": [
    "epochs = 30\n",
    "history = model.fit(X_train, y_train, batch_size = 32, epochs=epochs,validation_data = (X_test,y_test))"
   ]
  },
  {
   "cell_type": "code",
   "execution_count": 74,
   "metadata": {},
   "outputs": [
    {
     "data": {
      "image/png": "[encoded data removed]",
      "text/plain": [
       "<Figure size 432x288 with 1 Axes>"
      ]
     },
     "metadata": {
      "needs_background": "light"
     },
     "output_type": "display_data"
    }
   ],
   "source": [
    "# accuracy \n",
    "plt.figure(0)\n",
    "plt.plot(history.history['accuracy'], label='training accuracy')\n",
    "plt.plot(history.history['val_accuracy'], label='val accuracy')\n",
    "plt.title('Accuracy')\n",
    "plt.xlabel('epochs')\n",
    "plt.ylabel('accuracy')\n",
    "plt.legend()\n",
    "plt.show()"
   ]
  },
  {
   "cell_type": "code",
   "execution_count": 75,
   "metadata": {},
   "outputs": [
    {
     "data": {
      "image/png": "[encoded data removed]",
      "text/plain": [
       "<Figure size 432x288 with 1 Axes>"
      ]
     },
     "metadata": {
      "needs_background": "light"
     },
     "output_type": "display_data"
    }
   ],
   "source": [
    "# Loss\n",
    "plt.plot(history.history['loss'], label='training loss')\n",
    "plt.plot(history.history['val_loss'], label='val loss')\n",
    "plt.title('Loss')\n",
    "plt.xlabel('epochs')\n",
    "plt.ylabel('loss')\n",
    "plt.legend()\n",
    "plt.show()"
   ]
  },
  {
   "cell_type": "code",
   "execution_count": 76,
   "metadata": {},
   "outputs": [],
   "source": [
    "#Test the Data\n",
    "\n",
    "def testing(testcsv):\n",
    "    y_test = pd.read_csv('Test.csv')\n",
    "    label = y_test[\"ClassId\"].values\n",
    "    imgs = y_test[\"Path\"].values\n",
    "    data=[]\n",
    "    for img in imgs:\n",
    "        image = Image.open(img)\n",
    "        image = image.resize((30,30))\n",
    "        data.append(np.array(image))\n",
    "    X_test=np.array(data)\n",
    "    return X_test,label"
   ]
  },
  {
   "cell_type": "code",
   "execution_count": 77,
   "metadata": {},
   "outputs": [],
   "source": [
    "X_test,label = testing('Test.csv')"
   ]
  },
  {
   "cell_type": "code",
   "execution_count": 78,
   "metadata": {},
   "outputs": [
    {
     "data": {
      "text/plain": [
       "array([16,  1, 38, ...,  6,  7, 10], dtype=int64)"
      ]
     },
     "execution_count": 78,
     "metadata": {},
     "output_type": "execute_result"
    }
   ],
   "source": [
    "Y_pred = model.predict_classes(X_test)\n",
    "Y_pred"
   ]
  },
  {
   "cell_type": "code",
   "execution_count": 79,
   "metadata": {},
   "outputs": [
    {
     "name": "stdout",
     "output_type": "stream",
     "text": [
      "0.93784639746635\n"
     ]
    }
   ],
   "source": [
    "## Accuracy of the test Data\n",
    "\n",
    "from sklearn.metrics import accuracy_score\n",
    "print(accuracy_score(label,Y_pred))"
   ]
  },
  {
   "cell_type": "code",
   "execution_count": 80,
   "metadata": {},
   "outputs": [],
   "source": [
    "#Save the Model.\n",
    "\n",
    "model.save(\"./training/Traffic.h5\")"
   ]
  },
  {
   "cell_type": "code",
   "execution_count": 81,
   "metadata": {},
   "outputs": [],
   "source": [
    "# Classes of trafic signs\n",
    "classes = { 0:'Speed limit (20km/h)',\n",
    "            1:'Speed limit (30km/h)', \n",
    "            2:'Speed limit (50km/h)', \n",
    "            3:'Speed limit (60km/h)', \n",
    "            4:'Speed limit (70km/h)', \n",
    "            5:'Speed limit (80km/h)', \n",
    "            6:'End of speed limit (80km/h)', \n",
    "            7:'Speed limit (100km/h)', \n",
    "            8:'Speed limit (120km/h)', \n",
    "            9:'No passing', \n",
    "            10:'No passing veh over 3.5 tons', \n",
    "            11:'Right-of-way at intersection', \n",
    "            12:'Priority road', \n",
    "            13:'Yield', \n",
    "            14:'Stop', \n",
    "            15:'No vehicles', \n",
    "            16:'Veh > 3.5 tons prohibited', \n",
    "            17:'No entry', \n",
    "            18:'General caution', \n",
    "            19:'Dangerous curve left', \n",
    "            20:'Dangerous curve right', \n",
    "            21:'Double curve', \n",
    "            22:'Bumpy road', \n",
    "            23:'Slippery road', \n",
    "            24:'Road narrows on the right', \n",
    "            25:'Road work', \n",
    "            26:'Traffic signals', \n",
    "            27:'Pedestrians', \n",
    "            28:'Children crossing', \n",
    "            29:'Bicycles crossing', \n",
    "            30:'Beware of ice/snow',\n",
    "            31:'Wild animals crossing', \n",
    "            32:'End speed + passing limits', \n",
    "            33:'Turn right ahead', \n",
    "            34:'Turn left ahead', \n",
    "            35:'Ahead only', \n",
    "            36:'Go straight or right', \n",
    "            37:'Go straight or left', \n",
    "            38:'Keep right', \n",
    "            39:'Keep left', \n",
    "            40:'Roundabout mandatory', \n",
    "            41:'End of no passing', \n",
    "            42:'End no passing veh > 3.5 tons' }"
   ]
  },
  {
   "cell_type": "code",
   "execution_count": 82,
   "metadata": {},
   "outputs": [],
   "source": [
    "from PIL import Image\n",
    "import numpy as np\n",
    "import matplotlib.pyplot as plt\n",
    "def test_on_img(img):\n",
    "    data=[]\n",
    "    image = Image.open(img)\n",
    "    image = image.resize((30,30))\n",
    "    data.append(np.array(image))\n",
    "    X_test=np.array(data)\n",
    "    Y_pred = model.predict_classes(X_test)\n",
    "    return image,Y_pred"
   ]
  },
  {
   "cell_type": "code",
   "execution_count": 85,
   "metadata": {},
   "outputs": [
    {
     "name": "stdout",
     "output_type": "stream",
     "text": [
      "Predicted traffic sign is:  Priority road\n"
     ]
    },
    {
     "data": {
      "image/png": "[encoded data removed]",
      "text/plain": [
       "<Figure size 432x288 with 1 Axes>"
      ]
     },
     "metadata": {
      "needs_background": "light"
     },
     "output_type": "display_data"
    }
   ],
   "source": [
    "plot,prediction = test_on_img(r'E:\\\\DataScience\\\\2021\\\\trafficsigns_dataset\\\\test\\\\00300.png')\n",
    "s = [str(i) for i in prediction] \n",
    "a = int(\"\".join(s)) \n",
    "print(\"Predicted traffic sign is: \", classes[a])\n",
    "plt.imshow(plot)\n",
    "plt.show()"
   ]
  },
  {
   "cell_type": "code",
   "execution_count": null,
   "metadata": {},
   "outputs": [],
   "source": []
  }
 ],
 "metadata": {
  "kernelspec": {
   "display_name": "Python 3",
   "language": "python",
   "name": "python3"
  },
  "language_info": {
   "codemirror_mode": {
    "name": "ipython",
    "version": 3
   },
   "file_extension": ".py",
   "mimetype": "text/x-python",
   "name": "python",
   "nbconvert_exporter": "python",
   "pygments_lexer": "ipython3",
   "version": "3.7.4"
  }
 },
 "nbformat": 4,
 "nbformat_minor": 4
}
